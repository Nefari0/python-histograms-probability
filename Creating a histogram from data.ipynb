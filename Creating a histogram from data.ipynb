{
 "cells": [
  {
   "cell_type": "code",
   "execution_count": 1,
   "metadata": {},
   "outputs": [],
   "source": [
    "import numpy as np\n",
    "import matplotlib.pyplot as plt"
   ]
  },
  {
   "cell_type": "code",
   "execution_count": 15,
   "metadata": {},
   "outputs": [
    {
     "data": {
      "image/png": "[encoded data removed]",
      "text/plain": [
       "<Figure size 432x288 with 1 Axes>"
      ]
     },
     "metadata": {
      "needs_background": "light"
     },
     "output_type": "display_data"
    }
   ],
   "source": [
    "data = [1,2,2,2,2,2,3,4,5,6,6,6,6,7,8,9,8,6,3]\n",
    "\n",
    "# plt.hist(data)\n",
    "# plt.xlabel('Value')\n",
    "# plt.ylabel('Number of apperences (count)')\n",
    "# plt.show()\n",
    "\n",
    "# hist_data = np.histogram(data,bins=np.arange(1,11))\n",
    "y,x = np.histogram(data,bins=np.arange(1,11))\n",
    "y_p = y/np.max(y)\n",
    "\n",
    "# plt.bar(hist_data[1][:-1],hist_data[0])\n",
    "plt.bar(x[:-1],y_p)\n",
    "plt.xlabel('Value')\n",
    "plt.ylabel('Proportion (norm.)')\n",
    "plt.xticks(np.arange(1,10))\n",
    "plt.show()"
   ]
  }
 ],
 "metadata": {
  "kernelspec": {
   "display_name": "Python 3",
   "language": "python",
   "name": "python3"
  },
  "language_info": {
   "codemirror_mode": {
    "name": "ipython",
    "version": 3
   },
   "file_extension": ".py",
   "mimetype": "text/x-python",
   "name": "python",
   "nbconvert_exporter": "python",
   "pygments_lexer": "ipython3",
   "version": "3.8.5"
  }
 },
 "nbformat": 4,
 "nbformat_minor": 4
}
