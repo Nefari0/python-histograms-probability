{
 "cells": [
  {
   "cell_type": "code",
   "execution_count": 2,
   "metadata": {},
   "outputs": [],
   "source": [
    "import numpy as np\n",
    "import matplotlib.pyplot as plt\n",
    "import pandas as pd"
   ]
  },
  {
   "cell_type": "markdown",
   "metadata": {},
   "source": [
    "### Coin toss simulation"
   ]
  },
  {
   "cell_type": "code",
   "execution_count": 48,
   "metadata": {},
   "outputs": [
    {
     "data": {
      "image/png": "[encoded data removed]",
      "text/plain": [
       "<Figure size 432x288 with 1 Axes>"
      ]
     },
     "metadata": {
      "needs_background": "light"
     },
     "output_type": "display_data"
    }
   ],
   "source": [
    "# np.random.rand()>.5 # 'fair coin'\n",
    "# np.random.rand()>.6 # 'infair coin'\n",
    "\n",
    "fairCoin = .5\n",
    "unFairCoin = .6\n",
    "\n",
    "nTrials = 10\n",
    "\n",
    "# initialize\n",
    "results = np.zeros((2,nTrials ))\n",
    "\n",
    "for i in range(0,nTrials):\n",
    "    results[0,i] = np.random.rand()>fairCoin\n",
    "    results[1,i] = np.random.rand()>unFairCoin\n",
    "    \n",
    "plt.plot(results[0,:]-.05,'s',markersize=10,label='fair coin')\n",
    "plt.plot(results[1,:]+.05,'s',markersize=10,label='bias coin')\n",
    "plt.yticks([0,1],['Tails','Heads'])\n",
    "plt.xlabel('flip #')\n",
    "plt.ylim([-.5,1.5])\n",
    "plt.show()\n"
   ]
  },
  {
   "cell_type": "code",
   "execution_count": 49,
   "metadata": {},
   "outputs": [
    {
     "data": {
      "text/html": [
       "<div>\n",
       "<style scoped>\n",
       "    .dataframe tbody tr th:only-of-type {\n",
       "        vertical-align: middle;\n",
       "    }\n",
       "\n",
       "    .dataframe tbody tr th {\n",
       "        vertical-align: top;\n",
       "    }\n",
       "\n",
       "    .dataframe thead th {\n",
       "        text-align: right;\n",
       "    }\n",
       "</style>\n",
       "<table border=\"1\" class=\"dataframe\">\n",
       "  <thead>\n",
       "    <tr style=\"text-align: right;\">\n",
       "      <th></th>\n",
       "      <th>0</th>\n",
       "      <th>1</th>\n",
       "      <th>2</th>\n",
       "      <th>3</th>\n",
       "      <th>4</th>\n",
       "      <th>5</th>\n",
       "      <th>6</th>\n",
       "      <th>7</th>\n",
       "      <th>8</th>\n",
       "      <th>9</th>\n",
       "      <th>Ave.</th>\n",
       "    </tr>\n",
       "  </thead>\n",
       "  <tbody>\n",
       "    <tr>\n",
       "      <th>Fair</th>\n",
       "      <td>0</td>\n",
       "      <td>1</td>\n",
       "      <td>1</td>\n",
       "      <td>1</td>\n",
       "      <td>1</td>\n",
       "      <td>0</td>\n",
       "      <td>0</td>\n",
       "      <td>0</td>\n",
       "      <td>1</td>\n",
       "      <td>0</td>\n",
       "      <td>0.5</td>\n",
       "    </tr>\n",
       "    <tr>\n",
       "      <th>Biased</th>\n",
       "      <td>1</td>\n",
       "      <td>0</td>\n",
       "      <td>0</td>\n",
       "      <td>1</td>\n",
       "      <td>0</td>\n",
       "      <td>0</td>\n",
       "      <td>1</td>\n",
       "      <td>0</td>\n",
       "      <td>1</td>\n",
       "      <td>0</td>\n",
       "      <td>0.4</td>\n",
       "    </tr>\n",
       "  </tbody>\n",
       "</table>\n",
       "</div>"
      ],
      "text/plain": [
       "        0  1  2  3  4  5  6  7  8  9  Ave.\n",
       "Fair    0  1  1  1  1  0  0  0  1  0   0.5\n",
       "Biased  1  0  0  1  0  0  1  0  1  0   0.4"
      ]
     },
     "execution_count": 49,
     "metadata": {},
     "output_type": "execute_result"
    }
   ],
   "source": [
    "df = pd.DataFrame(results,dtype='int',index=['Fair','Biased'])\n",
    "df['Ave.'] = df.mean(axis=1)\n",
    "df"
   ]
  },
  {
   "cell_type": "markdown",
   "metadata": {},
   "source": [
    "### Weighted die simulation"
   ]
  },
  {
   "cell_type": "code",
   "execution_count": 42,
   "metadata": {},
   "outputs": [
    {
     "data": {
      "image/png": "[encoded data removed]",
      "text/plain": [
       "<Figure size 432x288 with 1 Axes>"
      ]
     },
     "metadata": {
      "needs_background": "light"
     },
     "output_type": "display_data"
    }
   ],
   "source": [
    "n = 50\n",
    "\n",
    "outComes = np.zeros((6,),dtype=np.int)\n",
    "\n",
    "pureProbs = np.array([2,1,1,1,1,1])\n",
    "pureProbs = pureProbs / np.sum(pureProbs)\n",
    "\n",
    "for i in range(n):\n",
    "    \n",
    "#     roll 7-sided die\n",
    "    dieRoll = np.random.randint(0,7)\n",
    "    \n",
    "    if dieRoll == 6:\n",
    "        dieRoll = 0\n",
    "        \n",
    "    outComes[dieRoll] += 1\n",
    "    \n",
    "plt.bar(range(1,7),outComes/n,color='k',label='Empirical (proportion)')\n",
    "plt.plot(range(1,7),pureProbs,'ms-',markersize=10,label='Theoretical (probability)') \n",
    "plt.xlabel('Die Face')\n",
    "plt.ylabel('Proabability or proportion')\n",
    "plt.legend()\n",
    "\n",
    "for i in range(1,7):\n",
    "    plt.text(i,outComes[i-1]/n-.025,'%s' %(int(100*outComes[i-1]/n))+'%' \\\n",
    "             ,color='w',fontsize=12,horizontalalignment='center')\n",
    "\n",
    "plt.show()"
   ]
  }
 ],
 "metadata": {
  "kernelspec": {
   "display_name": "Python 3",
   "language": "python",
   "name": "python3"
  },
  "language_info": {
   "codemirror_mode": {
    "name": "ipython",
    "version": 3
   },
   "file_extension": ".py",
   "mimetype": "text/x-python",
   "name": "python",
   "nbconvert_exporter": "python",
   "pygments_lexer": "ipython3",
   "version": "3.8.5"
  }
 },
 "nbformat": 4,
 "nbformat_minor": 4
}
